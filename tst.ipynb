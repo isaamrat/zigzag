{
 "cells": [
  {
   "cell_type": "code",
   "execution_count": 58,
   "metadata": {},
   "outputs": [
    {
     "name": "stdout",
     "output_type": "stream",
     "text": [
      "[34, 85, 204, 340, 283, 203, 26]\n"
     ]
    }
   ],
   "source": [
    "# sik = [2,3,6,13,27,52]\n",
    "# m = 31\n",
    "# n = 105\n",
    "sik = [2,5,12,20,40,82,165]\n",
    "m = 17\n",
    "n = 397\n",
    "gk = [(element*m)%n for element in sik]\n",
    "print(gk)"
   ]
  },
  {
   "cell_type": "code",
   "execution_count": 63,
   "metadata": {},
   "outputs": [
    {
     "name": "stdout",
     "output_type": "stream",
     "text": [
      "953\n"
     ]
    }
   ],
   "source": [
    "def findMod(givenM, givenN):\n",
    "    indx = 1\n",
    "    while True:\n",
    "        if (givenM*indx) % givenN == 1:\n",
    "            return indx\n",
    "        indx += 1\n",
    "mmodn = findMod(m,n)\n",
    "print(findMod(17,1080))"
   ]
  },
  {
   "cell_type": "code",
   "execution_count": 60,
   "metadata": {},
   "outputs": [
    {
     "name": "stdout",
     "output_type": "stream",
     "text": [
      "768\n"
     ]
    }
   ],
   "source": [
    "#encrypt\n",
    "plainText = '1101101'\n",
    "cipherText = 0\n",
    "for indx, ele in enumerate(plainText):\n",
    "    if ele == '1':\n",
    "        cipherText += gk[indx]\n",
    "print(cipherText)"
   ]
  },
  {
   "cell_type": "code",
   "execution_count": 61,
   "metadata": {},
   "outputs": [
    {
     "name": "stdout",
     "output_type": "stream",
     "text": [
      "232\n"
     ]
    }
   ],
   "source": [
    "#decrypt\n",
    "plainTextSum = (cipherText*mmodn)%n\n",
    "print(plainTextSum)"
   ]
  },
  {
   "cell_type": "code",
   "execution_count": 62,
   "metadata": {},
   "outputs": [
    {
     "name": "stdout",
     "output_type": "stream",
     "text": [
      "1101101\n"
     ]
    }
   ],
   "source": [
    "def findPlainText(plainTextSumCal, givenSik):\n",
    "    plainTxtGen = ''\n",
    "    tmp = plainTextSumCal\n",
    "    for i in range(-1,-len(givenSik)-1,-1):\n",
    "        if givenSik[i]<=tmp:\n",
    "            plainTxtGen = '1'+plainTxtGen\n",
    "\n",
    "            tmp -= givenSik[i]\n",
    "        else:\n",
    "            plainTxtGen = '0'+plainTxtGen\n",
    "    return plainTxtGen\n",
    "print(findPlainText(plainTextSum,sik))"
   ]
  },
  {
   "cell_type": "code",
   "execution_count": 64,
   "metadata": {},
   "outputs": [
    {
     "name": "stdout",
     "output_type": "stream",
     "text": [
      "2\n"
     ]
    }
   ],
   "source": [
    "print((314**953)%1147)"
   ]
  },
  {
   "cell_type": "code",
   "execution_count": null,
   "metadata": {},
   "outputs": [],
   "source": []
  }
 ],
 "metadata": {
  "kernelspec": {
   "display_name": "Python 3",
   "language": "python",
   "name": "python3"
  },
  "language_info": {
   "codemirror_mode": {
    "name": "ipython",
    "version": 3
   },
   "file_extension": ".py",
   "mimetype": "text/x-python",
   "name": "python",
   "nbconvert_exporter": "python",
   "pygments_lexer": "ipython3",
   "version": "3.10.9"
  },
  "orig_nbformat": 4,
  "vscode": {
   "interpreter": {
    "hash": "26de051ba29f2982a8de78e945f0abaf191376122a1563185a90213a26c5da77"
   }
  }
 },
 "nbformat": 4,
 "nbformat_minor": 2
}
